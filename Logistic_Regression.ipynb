{
 "cells": [
  {
   "cell_type": "code",
   "execution_count": 1,
   "metadata": {},
   "outputs": [],
   "source": [
    "import xlrd\n",
    "import matplotlib.pyplot as plt\n",
    "import numpy as np\n",
    "import time"
   ]
  },
  {
   "cell_type": "code",
   "execution_count": 2,
   "metadata": {},
   "outputs": [],
   "source": [
    "path1 = \"q2train.xlsx\"\n",
    "path2 = \"q2test.xlsx\""
   ]
  },
  {
   "cell_type": "code",
   "execution_count": 3,
   "metadata": {},
   "outputs": [],
   "source": [
    "wrk1 = xlrd.open_workbook(path1)\n",
    "train_d = wrk1.sheet_by_index(0)"
   ]
  },
  {
   "cell_type": "code",
   "execution_count": 4,
   "metadata": {},
   "outputs": [],
   "source": [
    "wrk2 = xlrd.open_workbook(path2)\n",
    "test_d = wrk2.sheet_by_index(0)"
   ]
  },
  {
   "cell_type": "code",
   "execution_count": 5,
   "metadata": {},
   "outputs": [
    {
     "data": {
      "text/plain": [
       "71"
      ]
     },
     "execution_count": 5,
     "metadata": {},
     "output_type": "execute_result"
    }
   ],
   "source": [
    "train_d.nrows"
   ]
  },
  {
   "cell_type": "code",
   "execution_count": 6,
   "metadata": {},
   "outputs": [
    {
     "data": {
      "text/plain": [
       "3"
      ]
     },
     "execution_count": 6,
     "metadata": {},
     "output_type": "execute_result"
    }
   ],
   "source": [
    "train_d.ncols"
   ]
  },
  {
   "cell_type": "code",
   "execution_count": 7,
   "metadata": {},
   "outputs": [
    {
     "data": {
      "text/plain": [
       "31"
      ]
     },
     "execution_count": 7,
     "metadata": {},
     "output_type": "execute_result"
    }
   ],
   "source": [
    "test_d.nrows"
   ]
  },
  {
   "cell_type": "code",
   "execution_count": 8,
   "metadata": {},
   "outputs": [
    {
     "data": {
      "text/plain": [
       "2"
      ]
     },
     "execution_count": 8,
     "metadata": {},
     "output_type": "execute_result"
    }
   ],
   "source": [
    "test_d.ncols"
   ]
  },
  {
   "cell_type": "code",
   "execution_count": 9,
   "metadata": {},
   "outputs": [],
   "source": [
    "x_train = []\n",
    "y_train = []"
   ]
  },
  {
   "cell_type": "code",
   "execution_count": 10,
   "metadata": {},
   "outputs": [],
   "source": [
    "for i in range(1, 71):\n",
    "    l = []\n",
    "    l.append(1.0)\n",
    "    l.append(train_d.cell_value(i, 0))\n",
    "    l.append(train_d.cell_value(i, 1))\n",
    "    y_train.append(train_d.cell_value(i, 2))\n",
    "    x_train.append(l)"
   ]
  },
  {
   "cell_type": "code",
   "execution_count": 11,
   "metadata": {},
   "outputs": [],
   "source": [
    "x_test = []"
   ]
  },
  {
   "cell_type": "code",
   "execution_count": 12,
   "metadata": {},
   "outputs": [],
   "source": [
    "for i in range(1, 31):\n",
    "    lt = []\n",
    "    lt.append(1.0)\n",
    "    lt.append(test_d.cell_value(i, 0))\n",
    "    lt.append(test_d.cell_value(i, 1))\n",
    "    x_test.append(lt)"
   ]
  },
  {
   "cell_type": "code",
   "execution_count": 13,
   "metadata": {},
   "outputs": [
    {
     "data": {
      "text/plain": [
       "70"
      ]
     },
     "execution_count": 13,
     "metadata": {},
     "output_type": "execute_result"
    }
   ],
   "source": [
    "m = len(x_train)\n",
    "m"
   ]
  },
  {
   "cell_type": "code",
   "execution_count": 14,
   "metadata": {},
   "outputs": [
    {
     "data": {
      "text/plain": [
       "3"
      ]
     },
     "execution_count": 14,
     "metadata": {},
     "output_type": "execute_result"
    }
   ],
   "source": [
    "p = len(x_train[0])\n",
    "p"
   ]
  },
  {
   "cell_type": "code",
   "execution_count": 15,
   "metadata": {},
   "outputs": [
    {
     "data": {
      "text/plain": [
       "30"
      ]
     },
     "execution_count": 15,
     "metadata": {},
     "output_type": "execute_result"
    }
   ],
   "source": [
    "n = len(x_test)\n",
    "n"
   ]
  },
  {
   "cell_type": "code",
   "execution_count": 16,
   "metadata": {},
   "outputs": [
    {
     "data": {
      "text/plain": [
       "3"
      ]
     },
     "execution_count": 16,
     "metadata": {},
     "output_type": "execute_result"
    }
   ],
   "source": [
    "pt = len(x_test[0])\n",
    "pt"
   ]
  },
  {
   "cell_type": "code",
   "execution_count": 17,
   "metadata": {},
   "outputs": [],
   "source": [
    "lx0_train = []\n",
    "lx1_train = []\n",
    "lx2_train = []"
   ]
  },
  {
   "cell_type": "code",
   "execution_count": 18,
   "metadata": {},
   "outputs": [],
   "source": [
    "for i in range(m):\n",
    "    lx0_train.append(x_train[i][0])\n",
    "    lx1_train.append(x_train[i][1])\n",
    "    lx2_train.append(x_train[i][2])"
   ]
  },
  {
   "cell_type": "code",
   "execution_count": 19,
   "metadata": {},
   "outputs": [
    {
     "data": {
      "text/plain": [
       "(99.37252693, 30.15882245)"
      ]
     },
     "execution_count": 19,
     "metadata": {},
     "output_type": "execute_result"
    }
   ],
   "source": [
    "x1_max = max(lx1_train)\n",
    "x1_min = min(lx1_train)\n",
    "x1_max, x1_min"
   ]
  },
  {
   "cell_type": "code",
   "execution_count": 20,
   "metadata": {},
   "outputs": [],
   "source": [
    "lx1n_train = []\n",
    "for i in range(m):\n",
    "    lx1n_train.append(((lx1_train[i] - x1_min)/(x1_max - x1_min)))"
   ]
  },
  {
   "cell_type": "code",
   "execution_count": 21,
   "metadata": {},
   "outputs": [
    {
     "data": {
      "text/plain": [
       "(99.37252693, 30.15882245)"
      ]
     },
     "execution_count": 21,
     "metadata": {},
     "output_type": "execute_result"
    }
   ],
   "source": [
    "x2_max = max(lx2_train)\n",
    "x2_min = min(lx2_train)\n",
    "x2_max, x2_min"
   ]
  },
  {
   "cell_type": "code",
   "execution_count": 22,
   "metadata": {},
   "outputs": [],
   "source": [
    "lx2n_train = []\n",
    "for i in range(m):\n",
    "    lx2n_train.append(((lx2_train[i] - x2_min)/(x2_max - x2_min)))"
   ]
  },
  {
   "cell_type": "code",
   "execution_count": 23,
   "metadata": {},
   "outputs": [],
   "source": [
    "lx0_test = []\n",
    "lx1_test = []\n",
    "lx2_test = []"
   ]
  },
  {
   "cell_type": "code",
   "execution_count": 24,
   "metadata": {},
   "outputs": [],
   "source": [
    "for i in range(n):\n",
    "    lx0_test.append(x_test[i][0])\n",
    "    lx1_test.append(x_test[i][1])\n",
    "    lx2_test.append(x_test[i][2])"
   ]
  },
  {
   "cell_type": "code",
   "execution_count": 25,
   "metadata": {},
   "outputs": [
    {
     "data": {
      "text/plain": [
       "(99.9278578, 32.82283304)"
      ]
     },
     "execution_count": 25,
     "metadata": {},
     "output_type": "execute_result"
    }
   ],
   "source": [
    "x1_maxt = max(lx1_test)\n",
    "x1_mint = min(lx1_test)\n",
    "x1_maxt, x1_mint"
   ]
  },
  {
   "cell_type": "code",
   "execution_count": 26,
   "metadata": {},
   "outputs": [],
   "source": [
    "lx1n_test = []\n",
    "for i in range(n):\n",
    "    lx1n_test.append(((lx1_test[i] - x1_mint)/(x1_maxt - x1_mint)))"
   ]
  },
  {
   "cell_type": "code",
   "execution_count": 27,
   "metadata": {},
   "outputs": [
    {
     "data": {
      "text/plain": [
       "(96.74742717, 35.67070347)"
      ]
     },
     "execution_count": 27,
     "metadata": {},
     "output_type": "execute_result"
    }
   ],
   "source": [
    "x2_maxt = max(lx2_test)\n",
    "x2_mint = min(lx2_test)\n",
    "x2_maxt, x2_mint"
   ]
  },
  {
   "cell_type": "code",
   "execution_count": 28,
   "metadata": {},
   "outputs": [],
   "source": [
    "lx2n_test = []\n",
    "for i in range(n):\n",
    "    lx2n_test.append(((lx2_test[i] - x2_mint)/(x2_maxt - x2_mint)))"
   ]
  },
  {
   "cell_type": "code",
   "execution_count": null,
   "metadata": {},
   "outputs": [],
   "source": []
  },
  {
   "cell_type": "code",
   "execution_count": null,
   "metadata": {},
   "outputs": [],
   "source": []
  },
  {
   "cell_type": "code",
   "execution_count": 29,
   "metadata": {},
   "outputs": [],
   "source": [
    "def matrixmulti(theta, lx0, lx1, lx2, m):\n",
    "    \n",
    "    hx = []\n",
    "    \n",
    "    for i in range(m):\n",
    "        x0t0 = lx0[i]*theta[0]\n",
    "        x1t1 = lx1[i]*theta[1]\n",
    "        x2t2 = lx2[i]*theta[2]\n",
    "        hx.append(x0t0 + x1t1 + x2t2)\n",
    "        \n",
    "    return hx"
   ]
  },
  {
   "cell_type": "code",
   "execution_count": 30,
   "metadata": {},
   "outputs": [],
   "source": [
    "def sig(hx, m):\n",
    "    \n",
    "    hx1 = np.array(hx)\n",
    "    hx2 = np.reshape(hx1, (m, 1))\n",
    "    s = 1/(1 + np.exp(-hx2))\n",
    "\n",
    "    s1 = []\n",
    "    for i in range(m):\n",
    "        s1.append(s[i][0])\n",
    "        \n",
    "    return s1"
   ]
  },
  {
   "cell_type": "code",
   "execution_count": 31,
   "metadata": {},
   "outputs": [],
   "source": [
    "def calcost(theta, lx0, lx1, lx2, m, Y):\n",
    "    \n",
    "    gx = matrixmulti(theta, lx0, lx1, lx2, m)\n",
    "    hx = sig(gx, m)\n",
    "    \n",
    "    costlog = 0.0 \n",
    "    for i in range(m):\n",
    "        costlog = costlog - ((Y[i]*np.log(hx[i])) + ((1 - Y[i])*np.log(1 - hx[i])))\n",
    "        \n",
    "    return costlog"
   ]
  },
  {
   "cell_type": "code",
   "execution_count": 32,
   "metadata": {},
   "outputs": [],
   "source": [
    "ep = 0"
   ]
  },
  {
   "cell_type": "code",
   "execution_count": 33,
   "metadata": {},
   "outputs": [],
   "source": [
    "alpha = 0.001"
   ]
  },
  {
   "cell_type": "code",
   "execution_count": 34,
   "metadata": {},
   "outputs": [
    {
     "data": {
      "text/plain": [
       "[0.0, 0.0, 0.0]"
      ]
     },
     "execution_count": 34,
     "metadata": {},
     "output_type": "execute_result"
    }
   ],
   "source": [
    "theta = [0.0, 0.0, 0.0]\n",
    "theta"
   ]
  },
  {
   "cell_type": "code",
   "execution_count": 35,
   "metadata": {},
   "outputs": [],
   "source": [
    "costl = []"
   ]
  },
  {
   "cell_type": "code",
   "execution_count": 36,
   "metadata": {},
   "outputs": [],
   "source": [
    "cost = 1.0"
   ]
  },
  {
   "cell_type": "code",
   "execution_count": 37,
   "metadata": {},
   "outputs": [
    {
     "name": "stdout",
     "output_type": "stream",
     "text": [
      "time taken to converge =  4.5286948680877686\n"
     ]
    }
   ],
   "source": [
    "start = time.time()\n",
    "while ep<10000:\n",
    "    \n",
    "    sub_train = []\n",
    "    gx_train = matrixmulti(theta, lx0_train, lx1n_train, lx2n_train, m)\n",
    "    hx_train = sig(gx_train, m)\n",
    "    \n",
    "    for i in range(m):\n",
    "        sub_train.append(y_train[i] - hx_train[i])\n",
    "\n",
    "    sum0_train = 0.0\n",
    "    sum1_train = 0.0\n",
    "    sum2_train = 0.0\n",
    "    for i in range(m):\n",
    "        sum0_train = sum0_train + sub_train[i]*lx0_train[i]\n",
    "        sum1_train = sum1_train + sub_train[i]*lx1n_train[i]\n",
    "        sum2_train = sum2_train + sub_train[i]*lx2n_train[i]\n",
    "        \n",
    "    mul0_train = alpha*sum0_train\n",
    "    mul1_train = alpha*sum1_train\n",
    "    mul2_train = alpha*sum2_train\n",
    "    \n",
    "    theta[0] = theta[0] + mul0_train\n",
    "    theta[1] = theta[1] + mul1_train\n",
    "    theta[2] = theta[2] + mul2_train\n",
    "    \n",
    "    cost = calcost(theta, lx0_train, lx1n_train, lx2n_train, m, y_train)\n",
    "    costl.append(cost)\n",
    "    \n",
    "    ep = ep + 1\n",
    "\n",
    "end = time.time()\n",
    "print(\"time taken to converge = \", end-start)"
   ]
  },
  {
   "cell_type": "code",
   "execution_count": 38,
   "metadata": {},
   "outputs": [
    {
     "data": {
      "text/plain": [
       "[-3.2896940314747503, 5.763351011731899, 1.0885007714121313]"
      ]
     },
     "execution_count": 38,
     "metadata": {},
     "output_type": "execute_result"
    }
   ],
   "source": [
    "theta"
   ]
  },
  {
   "cell_type": "code",
   "execution_count": 39,
   "metadata": {},
   "outputs": [],
   "source": [
    "def predict(theta, lx0, lx1, lx2, m):\n",
    "    \n",
    "    y_predict = []\n",
    "    for i in range(m):\n",
    "        x0 = float(lx0[i])\n",
    "        x1 = float(lx1[i])\n",
    "        x2 = float(lx2[i])\n",
    "        g = x0*theta[0]+ x1*theta[1] + x2*theta[2]\n",
    "        z = 1/(1 + np.exp(-g))\n",
    "        if(z>0.5):\n",
    "            y_predict.append(1.0)\n",
    "        else:\n",
    "            y_predict.append(0.0)\n",
    "    \n",
    "    return y_predict"
   ]
  },
  {
   "cell_type": "code",
   "execution_count": 40,
   "metadata": {},
   "outputs": [],
   "source": [
    "y_predict = predict(theta, lx0_train, lx1n_train, lx2n_train, m)"
   ]
  },
  {
   "cell_type": "code",
   "execution_count": 41,
   "metadata": {},
   "outputs": [],
   "source": [
    "count = 0\n",
    "for i in range(m):\n",
    "    if y_predict[i] == y_train[i]:\n",
    "        count = count + 1 "
   ]
  },
  {
   "cell_type": "code",
   "execution_count": 42,
   "metadata": {},
   "outputs": [
    {
     "name": "stdout",
     "output_type": "stream",
     "text": [
      "accuracy =  81.42857142857143\n"
     ]
    }
   ],
   "source": [
    "print(\"accuracy = \", (count/m)*100)"
   ]
  },
  {
   "cell_type": "code",
   "execution_count": 43,
   "metadata": {},
   "outputs": [],
   "source": [
    "y_predictt = predict(theta, lx0_test, lx1n_test, lx2n_test, n)"
   ]
  },
  {
   "cell_type": "markdown",
   "metadata": {},
   "source": [
    "# Graphs"
   ]
  },
  {
   "cell_type": "code",
   "execution_count": 44,
   "metadata": {},
   "outputs": [
    {
     "data": {
      "text/plain": [
       "3.0222248048634563"
      ]
     },
     "execution_count": 44,
     "metadata": {},
     "output_type": "execute_result"
    }
   ],
   "source": [
    "c = -theta[0]/theta[2]\n",
    "c"
   ]
  },
  {
   "cell_type": "code",
   "execution_count": 45,
   "metadata": {},
   "outputs": [
    {
     "data": {
      "text/plain": [
       "-5.294760613035673"
      ]
     },
     "execution_count": 45,
     "metadata": {},
     "output_type": "execute_result"
    }
   ],
   "source": [
    "slope = -theta[1]/theta[2]\n",
    "slope"
   ]
  },
  {
   "cell_type": "code",
   "execution_count": 46,
   "metadata": {},
   "outputs": [
    {
     "data": {
      "text/plain": [
       "(1.0, 0.0)"
      ]
     },
     "execution_count": 46,
     "metadata": {},
     "output_type": "execute_result"
    }
   ],
   "source": [
    "x1n_max = max(lx1n_train)\n",
    "x1n_min = min(lx1n_train)\n",
    "x1n_max, x1n_min"
   ]
  },
  {
   "cell_type": "code",
   "execution_count": 47,
   "metadata": {},
   "outputs": [
    {
     "data": {
      "text/plain": [
       "(1.0, 0.0)"
      ]
     },
     "execution_count": 47,
     "metadata": {},
     "output_type": "execute_result"
    }
   ],
   "source": [
    "x2n_max = max(lx2n_train)\n",
    "x2n_min = min(lx2n_train)\n",
    "x2n_max, x2n_min"
   ]
  },
  {
   "cell_type": "code",
   "execution_count": 48,
   "metadata": {},
   "outputs": [],
   "source": [
    "X2f = []\n",
    "for i in range(m):\n",
    "    X2f.append([lx1n_train[i], lx2n_train[i]])"
   ]
  },
  {
   "cell_type": "code",
   "execution_count": 49,
   "metadata": {
    "scrolled": true
   },
   "outputs": [],
   "source": [
    "X2fn = np.array(X2f)"
   ]
  },
  {
   "cell_type": "code",
   "execution_count": 50,
   "metadata": {
    "scrolled": true
   },
   "outputs": [],
   "source": [
    "Yn = np.array(y_train)"
   ]
  },
  {
   "cell_type": "code",
   "execution_count": 51,
   "metadata": {},
   "outputs": [
    {
     "data": {
      "image/png": "[encoded data removed]",
      "text/plain": [
       "<Figure size 576x576 with 1 Axes>"
      ]
     },
     "metadata": {
      "needs_background": "light"
     },
     "output_type": "display_data"
    }
   ],
   "source": [
    "fig = plt.figure(figsize = (8, 8))\n",
    "xl = np.array([x1n_min, x1n_max + 0.5])\n",
    "yl = slope*xl + c\n",
    "plt.plot(xl, yl, \"k\", lw = 1, ls = \"--\")\n",
    "\n",
    "plt.scatter(*X2fn[Yn==0.0].T, s = 8, color = \"blue\", alpha = 0.5)\n",
    "plt.scatter(*X2fn[Yn==1.0].T, s = 8, color = \"red\", alpha = 0.5)\n",
    "plt.xlim(x1n_min, x1n_max + 0.5)\n",
    "plt.ylim(x2n_min, x2n_max + 0.5)\n",
    "plt.ylabel(r'$x2$')\n",
    "plt.xlabel(r'$x1$')\n",
    "plt.title(\"Descision Boundary for training data\") \n",
    "plt.show()"
   ]
  },
  {
   "cell_type": "code",
   "execution_count": 52,
   "metadata": {},
   "outputs": [],
   "source": [
    "X2ft = []\n",
    "for i in range(n):\n",
    "    X2ft.append([lx1n_test[i], lx2n_test[i]])"
   ]
  },
  {
   "cell_type": "code",
   "execution_count": 53,
   "metadata": {
    "scrolled": true
   },
   "outputs": [],
   "source": [
    "X2fnt = np.array(X2ft)"
   ]
  },
  {
   "cell_type": "code",
   "execution_count": 54,
   "metadata": {},
   "outputs": [],
   "source": [
    "Ynt = np.array(y_predictt)"
   ]
  },
  {
   "cell_type": "code",
   "execution_count": 55,
   "metadata": {},
   "outputs": [
    {
     "data": {
      "image/png": "[encoded data removed]",
      "text/plain": [
       "<Figure size 576x576 with 1 Axes>"
      ]
     },
     "metadata": {
      "needs_background": "light"
     },
     "output_type": "display_data"
    }
   ],
   "source": [
    "fig = plt.figure(figsize = (8, 8))\n",
    "xlt = np.array([0.0, 1.5])\n",
    "ylt = slope*xlt + c\n",
    "plt.plot(xlt, ylt, \"k\", lw = 1, ls = \"--\")\n",
    "\n",
    "plt.scatter(*X2fnt[Ynt==0.0].T, s = 8, color = \"blue\", alpha = 0.5)\n",
    "plt.scatter(*X2fnt[Ynt==1.0].T, s = 8, color = \"red\", alpha = 0.5)\n",
    "plt.xlim(0.0, 1.5)\n",
    "plt.ylim(0.0, 1.5)\n",
    "plt.ylabel(r'$x2$')\n",
    "plt.xlabel(r'$x1$')\n",
    "plt.title(\"Descision Boundary for test data\") \n",
    "plt.show()"
   ]
  },
  {
   "cell_type": "code",
   "execution_count": 56,
   "metadata": {},
   "outputs": [
    {
     "data": {
      "text/plain": [
       "10000"
      ]
     },
     "execution_count": 56,
     "metadata": {},
     "output_type": "execute_result"
    }
   ],
   "source": [
    "#cost of logistic regression\n",
    "len(costl)"
   ]
  },
  {
   "cell_type": "code",
   "execution_count": 58,
   "metadata": {},
   "outputs": [
    {
     "data": {
      "image/png": "[encoded data removed]",
      "text/plain": [
       "<Figure size 720x720 with 1 Axes>"
      ]
     },
     "metadata": {
      "needs_background": "light"
     },
     "output_type": "display_data"
    }
   ],
   "source": [
    "fig = plt.figure(figsize = (10, 10))\n",
    "x_c = list(range(10000))\n",
    "plt.scatter(x_c, costl, s = 1, c = \"b\")\n",
    "plt.xlabel(\"iteration\")\n",
    "plt.ylabel(\"cost\")\n",
    "plt.title(\"cost in logistic regression\")\n",
    "plt.show()"
   ]
  },
  {
   "cell_type": "code",
   "execution_count": null,
   "metadata": {},
   "outputs": [],
   "source": []
  }
 ],
 "metadata": {
  "kernelspec": {
   "display_name": "Python 3",
   "language": "python",
   "name": "python3"
  },
  "language_info": {
   "codemirror_mode": {
    "name": "ipython",
    "version": 3
   },
   "file_extension": ".py",
   "mimetype": "text/x-python",
   "name": "python",
   "nbconvert_exporter": "python",
   "pygments_lexer": "ipython3",
   "version": "3.7.3"
  }
 },
 "nbformat": 4,
 "nbformat_minor": 4
}
